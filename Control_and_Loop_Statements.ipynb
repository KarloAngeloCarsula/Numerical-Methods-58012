{
  "nbformat": 4,
  "nbformat_minor": 0,
  "metadata": {
    "colab": {
      "name": "Control and Loop Statements",
      "provenance": [],
      "authorship_tag": "ABX9TyMbseq+LVJR/Ub8SQhArYvq",
      "include_colab_link": true
    },
    "kernelspec": {
      "name": "python3",
      "display_name": "Python 3"
    },
    "language_info": {
      "name": "python"
    }
  },
  "cells": [
    {
      "cell_type": "markdown",
      "metadata": {
        "id": "view-in-github",
        "colab_type": "text"
      },
      "source": [
        "<a href=\"https://colab.research.google.com/github/KarloAngeloCarsula/Numerical-Methods-58012/blob/main/Control_and_Loop_Statements.ipynb\" target=\"_parent\"><img src=\"https://colab.research.google.com/assets/colab-badge.svg\" alt=\"Open In Colab\"/></a>"
      ]
    },
    {
      "cell_type": "markdown",
      "source": [
        "##If Statement\n"
      ],
      "metadata": {
        "id": "eGtmgFhYYtUQ"
      }
    },
    {
      "cell_type": "code",
      "source": [
        "a = 12\n",
        "b = 100\n",
        "\n",
        "if b>a:\n",
        "  print(\"b is greater than a\")"
      ],
      "metadata": {
        "colab": {
          "base_uri": "https://localhost:8080/"
        },
        "id": "itPGSfDLY1hh",
        "outputId": "517d9628-33ba-4afb-c430-013a2c12f20c"
      },
      "execution_count": 1,
      "outputs": [
        {
          "output_type": "stream",
          "name": "stdout",
          "text": [
            "b is greater than a\n"
          ]
        }
      ]
    },
    {
      "cell_type": "markdown",
      "source": [
        "##If.. Elif Statement"
      ],
      "metadata": {
        "id": "rLCl9nsiY22a"
      }
    },
    {
      "cell_type": "code",
      "source": [
        "a = 100\n",
        "b = 100\n",
        "\n",
        "if b>a:\n",
        "    print(\"b is greater than a\")\n",
        "elif a==b:\n",
        "  print(\"a and b are equal\")"
      ],
      "metadata": {
        "colab": {
          "base_uri": "https://localhost:8080/"
        },
        "id": "sSwIU3S4Y8IO",
        "outputId": "4cab2636-88df-4f80-e9e0-545aee7619f1"
      },
      "execution_count": 2,
      "outputs": [
        {
          "output_type": "stream",
          "name": "stdout",
          "text": [
            "a and b are equal\n"
          ]
        }
      ]
    },
    {
      "cell_type": "markdown",
      "source": [
        "##Else Statement"
      ],
      "metadata": {
        "id": "cM_ugfh4Y_WM"
      }
    },
    {
      "cell_type": "code",
      "source": [
        "if b>a:\n",
        "  print(\"b is greater than a\")\n",
        "elif a==b:\n",
        "  print(\"a and b are equal\")\n",
        "else:\n",
        "  print(\"a is greater than b\")"
      ],
      "metadata": {
        "colab": {
          "base_uri": "https://localhost:8080/"
        },
        "id": "ewetm7T9ZCuo",
        "outputId": "ac71663b-adad-4fd2-f0a1-8f3b9d01f861"
      },
      "execution_count": 5,
      "outputs": [
        {
          "output_type": "stream",
          "name": "stdout",
          "text": [
            "a and b are equal\n"
          ]
        }
      ]
    },
    {
      "cell_type": "markdown",
      "source": [
        "##Short Hand If Statement"
      ],
      "metadata": {
        "id": "LcDMAs3eZEUp"
      }
    },
    {
      "cell_type": "code",
      "source": [
        "if a>b: print(\"a is greater than b\")"
      ],
      "metadata": {
        "colab": {
          "base_uri": "https://localhost:8080/"
        },
        "id": "tfFEYL-oZS9L",
        "outputId": "1b9f3ec6-9293-471d-90a4-f60c69184ce3"
      },
      "execution_count": 18,
      "outputs": [
        {
          "output_type": "stream",
          "name": "stdout",
          "text": [
            "a is greater than b\n"
          ]
        }
      ]
    },
    {
      "cell_type": "markdown",
      "source": [
        "##Short Hand If.. Else Statement"
      ],
      "metadata": {
        "id": "8zRQpoxoZYAC"
      }
    },
    {
      "cell_type": "code",
      "source": [
        "print(\"b is greater than a\")if b>a else print(\"a is greater than b\")"
      ],
      "metadata": {
        "colab": {
          "base_uri": "https://localhost:8080/"
        },
        "id": "8Rj5WsIuZa1J",
        "outputId": "6ef39411-eed7-406e-dfdc-76f2bed78e80"
      },
      "execution_count": 13,
      "outputs": [
        {
          "output_type": "stream",
          "name": "stdout",
          "text": [
            "a is greater than b\n"
          ]
        }
      ]
    },
    {
      "cell_type": "markdown",
      "source": [
        "##And-if both conditions are true"
      ],
      "metadata": {
        "id": "cQ180FViZg9A"
      }
    },
    {
      "cell_type": "code",
      "source": [
        "a = 100\n",
        "b = 10\n",
        "c = 45\n",
        "\n",
        "if a>b and c>b:\n",
        "  print(\"Both conditions are true\")"
      ],
      "metadata": {
        "colab": {
          "base_uri": "https://localhost:8080/"
        },
        "id": "9JmOPkRIZjfS",
        "outputId": "d4806666-5655-4f46-f33d-b78cc8ce2887"
      },
      "execution_count": 15,
      "outputs": [
        {
          "output_type": "stream",
          "name": "stdout",
          "text": [
            "Both conditions are true\n"
          ]
        }
      ]
    },
    {
      "cell_type": "markdown",
      "source": [
        "##Or-if one of the conditions is true"
      ],
      "metadata": {
        "id": "DSRUZb5JZlNe"
      }
    },
    {
      "cell_type": "code",
      "source": [
        "if a>b or b>c:\n",
        "  print(\"One condition is true\")"
      ],
      "metadata": {
        "colab": {
          "base_uri": "https://localhost:8080/"
        },
        "id": "JNa8g-axZnc6",
        "outputId": "7510e6c2-5f2b-4d17-e432-e57819209b7f"
      },
      "execution_count": 16,
      "outputs": [
        {
          "output_type": "stream",
          "name": "stdout",
          "text": [
            "One condition is true\n"
          ]
        }
      ]
    },
    {
      "cell_type": "markdown",
      "source": [
        "##Nested If"
      ],
      "metadata": {
        "id": "dunEqm7dZrw6"
      }
    },
    {
      "cell_type": "code",
      "source": [
        "x = 41\n",
        "\n",
        "if x>10:\n",
        "  print(\"x is above 10\")\n",
        "  if x>20:\n",
        "   print(\"x is above 20\")\n",
        "   if x>30:\n",
        "     print(\"x is above 30\")\n",
        "     if x>40:\n",
        "       print(\"x is above 40\")\n",
        "       if x>50:\n",
        "         print(\"x is above 50\")\n",
        "       else:\n",
        "         print(\"x is below 50\")\n",
        "else:\n",
        "  print(\"x is below 10\")"
      ],
      "metadata": {
        "colab": {
          "base_uri": "https://localhost:8080/"
        },
        "id": "Hhspap6sZshL",
        "outputId": "a66e2d48-b29f-4720-c877-c6b65c9d0405"
      },
      "execution_count": 17,
      "outputs": [
        {
          "output_type": "stream",
          "name": "stdout",
          "text": [
            "x is above 10\n",
            "x is above 20\n",
            "x is above 30\n",
            "x is above 40\n",
            "x is below 50\n"
          ]
        }
      ]
    },
    {
      "cell_type": "markdown",
      "source": [
        "##Application 1"
      ],
      "metadata": {
        "id": "b0H0mmQcZvsO"
      }
    },
    {
      "cell_type": "code",
      "source": [
        "age = int(input())\n",
        "\n",
        "if age>=18:\n",
        "  print(\"You are qualified to vote\")\n",
        "else:\n",
        "  print(\"You are not qualified to vote\")"
      ],
      "metadata": {
        "colab": {
          "base_uri": "https://localhost:8080/"
        },
        "id": "STPPdRFqZzIM",
        "outputId": "7ca8caa4-667b-4927-c69f-2e15dd873e57"
      },
      "execution_count": 19,
      "outputs": [
        {
          "output_type": "stream",
          "name": "stdout",
          "text": [
            "21\n",
            "You are qualified to vote\n"
          ]
        }
      ]
    },
    {
      "cell_type": "markdown",
      "source": [
        "##Application 2\n"
      ],
      "metadata": {
        "id": "y4e-5231Z4i6"
      }
    },
    {
      "cell_type": "code",
      "source": [
        "x = int(input())\n",
        "if x>0:\n",
        "  print(\"x is a positive number\")\n",
        "elif x==0:\n",
        "  print(\"x is a zero\")\n",
        "else:\n",
        "  print(\"x is a negative number\")"
      ],
      "metadata": {
        "colab": {
          "base_uri": "https://localhost:8080/"
        },
        "id": "nLTJ0nfgZ6jj",
        "outputId": "6386b7ca-1e0c-400b-ba32-53891798ac92"
      },
      "execution_count": 20,
      "outputs": [
        {
          "output_type": "stream",
          "name": "stdout",
          "text": [
            "5\n",
            "x is a positive number\n"
          ]
        }
      ]
    },
    {
      "cell_type": "markdown",
      "source": [
        "##Application 3- Write a program to determine if the grades are:\n",
        "##(grade>= 70, \"Passed\" grade = 64 to 69 \"Remedial\" grade< 6, \"Failed)"
      ],
      "metadata": {
        "id": "t1TJSDutaCDu"
      }
    },
    {
      "cell_type": "code",
      "source": [
        "#Grade\n",
        "grade = int(input( \"Grade:\"))\n",
        "print (\"Your Semestral Grade is\", grade)\n",
        "\n",
        "if grade>=  70 and grade<=100:\n",
        "    print(\"Passed!\")\n",
        "elif grade>= 64 and grade<=69:\n",
        "    print(\"Remedial!\")\n",
        "elif grade>= 0 and grade<=64:\n",
        "    print(\"Failed!\")\n",
        "else:\n",
        "    print(\"Invalid Input!\")"
      ],
      "metadata": {
        "colab": {
          "base_uri": "https://localhost:8080/"
        },
        "id": "uX_FrhckaGjt",
        "outputId": "b6791bd8-ae7b-4c5e-8d33-10f15c8c8183"
      },
      "execution_count": 33,
      "outputs": [
        {
          "output_type": "stream",
          "name": "stdout",
          "text": [
            "Grade:70\n",
            "Your Semestral Grade is 70\n",
            "Passed!\n"
          ]
        }
      ]
    },
    {
      "cell_type": "markdown",
      "source": [
        "##For Loop\n"
      ],
      "metadata": {
        "id": "UasvGlvEci6G"
      }
    },
    {
      "cell_type": "code",
      "source": [
        "week = [\"Sunday\",\"Monday\",\"Tuesday\",\"Wednesday\",\"Thursday\",\"Fruiday\",\"Saturday\"]\n",
        "\n",
        "for x in week:\n",
        "  print(x)\n"
      ],
      "metadata": {
        "id": "Tz2HrzsFcoYz",
        "outputId": "6088aa55-7d01-442b-ab0f-65b65e32606e",
        "colab": {
          "base_uri": "https://localhost:8080/"
        }
      },
      "execution_count": 34,
      "outputs": [
        {
          "output_type": "stream",
          "name": "stdout",
          "text": [
            "Sunday\n",
            "Monday\n",
            "Tuesday\n",
            "Wednesday\n",
            "Thursday\n",
            "Fruiday\n",
            "Saturday\n"
          ]
        }
      ]
    },
    {
      "cell_type": "markdown",
      "source": [
        "##The break Statement"
      ],
      "metadata": {
        "id": "Xuj5BLxhctJv"
      }
    },
    {
      "cell_type": "code",
      "source": [
        "for x in week:\n",
        "  print(x)\n",
        "  if x == \"Friday\":\n",
        "    break"
      ],
      "metadata": {
        "id": "8eV4mWTMcvAg",
        "outputId": "c2780f3f-ccdc-428d-9de2-9658b5d0b852",
        "colab": {
          "base_uri": "https://localhost:8080/"
        }
      },
      "execution_count": 35,
      "outputs": [
        {
          "output_type": "stream",
          "name": "stdout",
          "text": [
            "Sunday\n",
            "Monday\n",
            "Tuesday\n",
            "Wednesday\n",
            "Thursday\n",
            "Fruiday\n",
            "Saturday\n"
          ]
        }
      ]
    },
    {
      "cell_type": "markdown",
      "source": [
        "##Looping through a string"
      ],
      "metadata": {
        "id": "OnkVRG5Wcy8R"
      }
    },
    {
      "cell_type": "code",
      "source": [
        "for x in \"week\":\n",
        "  print(x)"
      ],
      "metadata": {
        "id": "5qGstpZCc3cY",
        "outputId": "9260a115-f734-4e3a-fea6-929dcb870be5",
        "colab": {
          "base_uri": "https://localhost:8080/"
        }
      },
      "execution_count": 36,
      "outputs": [
        {
          "output_type": "stream",
          "name": "stdout",
          "text": [
            "w\n",
            "e\n",
            "e\n",
            "k\n"
          ]
        }
      ]
    },
    {
      "cell_type": "markdown",
      "source": [
        "##Range () Function"
      ],
      "metadata": {
        "id": "K_2iFn5Ac47q"
      }
    },
    {
      "cell_type": "code",
      "source": [
        "for x in range(6):\n",
        "  print(x)"
      ],
      "metadata": {
        "id": "VlaO-gbXc6lH",
        "outputId": "3a79c9c0-a0fe-4fd5-b1cb-10aefecfcb5a",
        "colab": {
          "base_uri": "https://localhost:8080/"
        }
      },
      "execution_count": 37,
      "outputs": [
        {
          "output_type": "stream",
          "name": "stdout",
          "text": [
            "0\n",
            "1\n",
            "2\n",
            "3\n",
            "4\n",
            "5\n"
          ]
        }
      ]
    },
    {
      "cell_type": "code",
      "source": [
        "for x in range(2,6):\n",
        "  print(x)"
      ],
      "metadata": {
        "id": "v8W8UZWac-R5",
        "outputId": "56089826-ab15-4a35-85ae-cacf9ec74ce7",
        "colab": {
          "base_uri": "https://localhost:8080/"
        }
      },
      "execution_count": 38,
      "outputs": [
        {
          "output_type": "stream",
          "name": "stdout",
          "text": [
            "2\n",
            "3\n",
            "4\n",
            "5\n"
          ]
        }
      ]
    },
    {
      "cell_type": "code",
      "source": [
        "i = 1\n",
        "\n",
        "while i<6:\n",
        "  print(i)\n",
        "  if i == 3:\n",
        "    break\n",
        "\n",
        "  i+=1 #same as i = i+1"
      ],
      "metadata": {
        "id": "QBC0L8UbdQ88",
        "outputId": "70cfe773-8679-4083-a8d4-ee565d384db5",
        "colab": {
          "base_uri": "https://localhost:8080/"
        }
      },
      "execution_count": 51,
      "outputs": [
        {
          "output_type": "stream",
          "name": "stdout",
          "text": [
            "1\n",
            "2\n",
            "3\n"
          ]
        }
      ]
    },
    {
      "cell_type": "markdown",
      "source": [
        "##The break Statement"
      ],
      "metadata": {
        "id": "OjgInNz3eOiT"
      }
    },
    {
      "cell_type": "code",
      "source": [
        "i = 1\n",
        "\n",
        "while i<6:\n",
        "  print(i)\n",
        "  if i == 3:\n",
        "    break\n",
        "\n",
        "  i+=1 #same as i = i+1"
      ],
      "metadata": {
        "id": "6nTOo20Web34",
        "outputId": "9f135b40-01ce-4f6c-effd-d8729dcea7b6",
        "colab": {
          "base_uri": "https://localhost:8080/"
        }
      },
      "execution_count": 52,
      "outputs": [
        {
          "output_type": "stream",
          "name": "stdout",
          "text": [
            "1\n",
            "2\n",
            "3\n"
          ]
        }
      ]
    },
    {
      "cell_type": "markdown",
      "source": [
        "##The continue statement"
      ],
      "metadata": {
        "id": "EAvJQExlefKE"
      }
    },
    {
      "cell_type": "code",
      "source": [
        "i = 1\n",
        "\n",
        "while i<6:\n",
        "  i+=1\n",
        "  if i == 3:\n",
        "    continue\n",
        "  i+=1\n",
        "print(i)"
      ],
      "metadata": {
        "id": "yGssi2CBegTy",
        "outputId": "45759964-478c-4f98-b202-ca168ca78095",
        "colab": {
          "base_uri": "https://localhost:8080/"
        }
      },
      "execution_count": 59,
      "outputs": [
        {
          "output_type": "stream",
          "name": "stdout",
          "text": [
            "7\n"
          ]
        }
      ]
    }
  ]
}